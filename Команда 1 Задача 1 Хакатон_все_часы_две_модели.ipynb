{
  "nbformat": 4,
  "nbformat_minor": 0,
  "metadata": {
    "colab": {
      "provenance": [],
      "collapsed_sections": []
    },
    "kernelspec": {
      "name": "python3",
      "display_name": "Python 3"
    },
    "language_info": {
      "name": "python"
    }
  },
  "cells": [
    {
      "cell_type": "code",
      "execution_count": null,
      "metadata": {
        "id": "2uX7wTaw-kLI"
      },
      "outputs": [],
      "source": [
        "import pandas as pd\n",
        "import numpy as np\n",
        "from sklearn.neighbors import KNeighborsRegressor\n",
        "from sklearn.linear_model import LinearRegression, LogisticRegression\n",
        "from sklearn.svm import SVR\n",
        "from sklearn.ensemble import RandomForestRegressor\n",
        "from sklearn.metrics import r2_score\n",
        "from sklearn.model_selection import train_test_split\n",
        "import seaborn as sns\n",
        "from sklearn import metrics\n",
        "%pip install lightgbm"
      ]
    },
    {
      "cell_type": "code",
      "source": [
        "from google.colab import drive\n",
        "drive.mount('/content/drive')"
      ],
      "metadata": {
        "id": "udY_RxsX-rOq",
        "colab": {
          "base_uri": "https://localhost:8080/"
        },
        "outputId": "f704b390-dcdb-4bc9-c53c-a846b221d9de"
      },
      "execution_count": 2,
      "outputs": [
        {
          "output_type": "stream",
          "name": "stdout",
          "text": [
            "Mounted at /content/drive\n"
          ]
        }
      ]
    },
    {
      "cell_type": "code",
      "source": [
        "bd = pd.read_csv('/content/drive/My Drive/Hakaton/orders.csv', sep=',')\n",
        "#bd # колво заказов по  зонам доставки \n",
        "bd"
      ],
      "metadata": {
        "id": "lTaYvCzI-tTQ",
        "colab": {
          "base_uri": "https://localhost:8080/",
          "height": 424
        },
        "outputId": "e2075e1f-7324-4564-e34f-3f9260ee442a"
      },
      "execution_count": 3,
      "outputs": [
        {
          "output_type": "execute_result",
          "data": {
            "text/plain": [
              "        delivery_area_id                 date  orders_cnt\n",
              "0                      0  2021-04-01 10:00:00           9\n",
              "1                      0  2021-04-01 11:00:00           1\n",
              "2                      0  2021-04-01 13:00:00           1\n",
              "3                      0  2021-04-01 14:00:00           1\n",
              "4                      0  2021-04-01 15:00:00           2\n",
              "...                  ...                  ...         ...\n",
              "884851               592  2021-11-30 16:00:00           6\n",
              "884852               592  2021-11-30 17:00:00           3\n",
              "884853               592  2021-11-30 18:00:00           2\n",
              "884854               592  2021-11-30 19:00:00           4\n",
              "884855               592  2021-11-30 20:00:00           4\n",
              "\n",
              "[884856 rows x 3 columns]"
            ],
            "text/html": [
              "\n",
              "  <div id=\"df-3db38a23-ae4e-4afc-b107-aadd13e29bef\">\n",
              "    <div class=\"colab-df-container\">\n",
              "      <div>\n",
              "<style scoped>\n",
              "    .dataframe tbody tr th:only-of-type {\n",
              "        vertical-align: middle;\n",
              "    }\n",
              "\n",
              "    .dataframe tbody tr th {\n",
              "        vertical-align: top;\n",
              "    }\n",
              "\n",
              "    .dataframe thead th {\n",
              "        text-align: right;\n",
              "    }\n",
              "</style>\n",
              "<table border=\"1\" class=\"dataframe\">\n",
              "  <thead>\n",
              "    <tr style=\"text-align: right;\">\n",
              "      <th></th>\n",
              "      <th>delivery_area_id</th>\n",
              "      <th>date</th>\n",
              "      <th>orders_cnt</th>\n",
              "    </tr>\n",
              "  </thead>\n",
              "  <tbody>\n",
              "    <tr>\n",
              "      <th>0</th>\n",
              "      <td>0</td>\n",
              "      <td>2021-04-01 10:00:00</td>\n",
              "      <td>9</td>\n",
              "    </tr>\n",
              "    <tr>\n",
              "      <th>1</th>\n",
              "      <td>0</td>\n",
              "      <td>2021-04-01 11:00:00</td>\n",
              "      <td>1</td>\n",
              "    </tr>\n",
              "    <tr>\n",
              "      <th>2</th>\n",
              "      <td>0</td>\n",
              "      <td>2021-04-01 13:00:00</td>\n",
              "      <td>1</td>\n",
              "    </tr>\n",
              "    <tr>\n",
              "      <th>3</th>\n",
              "      <td>0</td>\n",
              "      <td>2021-04-01 14:00:00</td>\n",
              "      <td>1</td>\n",
              "    </tr>\n",
              "    <tr>\n",
              "      <th>4</th>\n",
              "      <td>0</td>\n",
              "      <td>2021-04-01 15:00:00</td>\n",
              "      <td>2</td>\n",
              "    </tr>\n",
              "    <tr>\n",
              "      <th>...</th>\n",
              "      <td>...</td>\n",
              "      <td>...</td>\n",
              "      <td>...</td>\n",
              "    </tr>\n",
              "    <tr>\n",
              "      <th>884851</th>\n",
              "      <td>592</td>\n",
              "      <td>2021-11-30 16:00:00</td>\n",
              "      <td>6</td>\n",
              "    </tr>\n",
              "    <tr>\n",
              "      <th>884852</th>\n",
              "      <td>592</td>\n",
              "      <td>2021-11-30 17:00:00</td>\n",
              "      <td>3</td>\n",
              "    </tr>\n",
              "    <tr>\n",
              "      <th>884853</th>\n",
              "      <td>592</td>\n",
              "      <td>2021-11-30 18:00:00</td>\n",
              "      <td>2</td>\n",
              "    </tr>\n",
              "    <tr>\n",
              "      <th>884854</th>\n",
              "      <td>592</td>\n",
              "      <td>2021-11-30 19:00:00</td>\n",
              "      <td>4</td>\n",
              "    </tr>\n",
              "    <tr>\n",
              "      <th>884855</th>\n",
              "      <td>592</td>\n",
              "      <td>2021-11-30 20:00:00</td>\n",
              "      <td>4</td>\n",
              "    </tr>\n",
              "  </tbody>\n",
              "</table>\n",
              "<p>884856 rows × 3 columns</p>\n",
              "</div>\n",
              "      <button class=\"colab-df-convert\" onclick=\"convertToInteractive('df-3db38a23-ae4e-4afc-b107-aadd13e29bef')\"\n",
              "              title=\"Convert this dataframe to an interactive table.\"\n",
              "              style=\"display:none;\">\n",
              "        \n",
              "  <svg xmlns=\"http://www.w3.org/2000/svg\" height=\"24px\"viewBox=\"0 0 24 24\"\n",
              "       width=\"24px\">\n",
              "    <path d=\"M0 0h24v24H0V0z\" fill=\"none\"/>\n",
              "    <path d=\"M18.56 5.44l.94 2.06.94-2.06 2.06-.94-2.06-.94-.94-2.06-.94 2.06-2.06.94zm-11 1L8.5 8.5l.94-2.06 2.06-.94-2.06-.94L8.5 2.5l-.94 2.06-2.06.94zm10 10l.94 2.06.94-2.06 2.06-.94-2.06-.94-.94-2.06-.94 2.06-2.06.94z\"/><path d=\"M17.41 7.96l-1.37-1.37c-.4-.4-.92-.59-1.43-.59-.52 0-1.04.2-1.43.59L10.3 9.45l-7.72 7.72c-.78.78-.78 2.05 0 2.83L4 21.41c.39.39.9.59 1.41.59.51 0 1.02-.2 1.41-.59l7.78-7.78 2.81-2.81c.8-.78.8-2.07 0-2.86zM5.41 20L4 18.59l7.72-7.72 1.47 1.35L5.41 20z\"/>\n",
              "  </svg>\n",
              "      </button>\n",
              "      \n",
              "  <style>\n",
              "    .colab-df-container {\n",
              "      display:flex;\n",
              "      flex-wrap:wrap;\n",
              "      gap: 12px;\n",
              "    }\n",
              "\n",
              "    .colab-df-convert {\n",
              "      background-color: #E8F0FE;\n",
              "      border: none;\n",
              "      border-radius: 50%;\n",
              "      cursor: pointer;\n",
              "      display: none;\n",
              "      fill: #1967D2;\n",
              "      height: 32px;\n",
              "      padding: 0 0 0 0;\n",
              "      width: 32px;\n",
              "    }\n",
              "\n",
              "    .colab-df-convert:hover {\n",
              "      background-color: #E2EBFA;\n",
              "      box-shadow: 0px 1px 2px rgba(60, 64, 67, 0.3), 0px 1px 3px 1px rgba(60, 64, 67, 0.15);\n",
              "      fill: #174EA6;\n",
              "    }\n",
              "\n",
              "    [theme=dark] .colab-df-convert {\n",
              "      background-color: #3B4455;\n",
              "      fill: #D2E3FC;\n",
              "    }\n",
              "\n",
              "    [theme=dark] .colab-df-convert:hover {\n",
              "      background-color: #434B5C;\n",
              "      box-shadow: 0px 1px 3px 1px rgba(0, 0, 0, 0.15);\n",
              "      filter: drop-shadow(0px 1px 2px rgba(0, 0, 0, 0.3));\n",
              "      fill: #FFFFFF;\n",
              "    }\n",
              "  </style>\n",
              "\n",
              "      <script>\n",
              "        const buttonEl =\n",
              "          document.querySelector('#df-3db38a23-ae4e-4afc-b107-aadd13e29bef button.colab-df-convert');\n",
              "        buttonEl.style.display =\n",
              "          google.colab.kernel.accessAllowed ? 'block' : 'none';\n",
              "\n",
              "        async function convertToInteractive(key) {\n",
              "          const element = document.querySelector('#df-3db38a23-ae4e-4afc-b107-aadd13e29bef');\n",
              "          const dataTable =\n",
              "            await google.colab.kernel.invokeFunction('convertToInteractive',\n",
              "                                                     [key], {});\n",
              "          if (!dataTable) return;\n",
              "\n",
              "          const docLinkHtml = 'Like what you see? Visit the ' +\n",
              "            '<a target=\"_blank\" href=https://colab.research.google.com/notebooks/data_table.ipynb>data table notebook</a>'\n",
              "            + ' to learn more about interactive tables.';\n",
              "          element.innerHTML = '';\n",
              "          dataTable['output_type'] = 'display_data';\n",
              "          await google.colab.output.renderOutput(dataTable, element);\n",
              "          const docLink = document.createElement('div');\n",
              "          docLink.innerHTML = docLinkHtml;\n",
              "          element.appendChild(docLink);\n",
              "        }\n",
              "      </script>\n",
              "    </div>\n",
              "  </div>\n",
              "  "
            ]
          },
          "metadata": {},
          "execution_count": 3
        }
      ]
    },
    {
      "cell_type": "code",
      "source": [
        "# указываем кол-во заказов  7 и 14 дней назад\n",
        "bd = pd.concat([bd, bd['orders_cnt'].shift(7), bd['orders_cnt'].shift(14)], axis=1)\n",
        "bd"
      ],
      "metadata": {
        "id": "zTJsWTDQ_spb"
      },
      "execution_count": null,
      "outputs": []
    },
    {
      "cell_type": "code",
      "source": [
        "bd.columns= ['delivery_area_id', 'date','kol-vo-z', 'back_7d_z', 'back_14d_z'] # переименовываю столбцы\n",
        "bd"
      ],
      "metadata": {
        "id": "vFdRQabz_wsh"
      },
      "execution_count": null,
      "outputs": []
    },
    {
      "cell_type": "code",
      "source": [
        "#ДОБАВЛЯЮ СТОЛБЦЫ В  ТАБЛ\n",
        "fast_ma=7\n",
        "slow_ma=14\n",
        "bd['target_sqrt'] = np.sqrt(bd['kol-vo-z'])                             # это два новых\n",
        "bd['target_log'] = np.log(bd['kol-vo-z'])\n",
        "bd['sred_za_7d']=bd['kol-vo-z'].rolling(window=fast_ma).mean()          #Средние колво заказов за 7 дней\n",
        "bd['sred_za_14d']=bd['kol-vo-z'].rolling(window=slow_ma).mean()         #Средние колво заказов за 14 дней\n",
        "bd['50%_sz7d+50%_sz14d'] = bd['sred_za_7d'] /2 + bd['sred_za_14d']/2    #сумма 50% от среднего за 7 дней и за 14 \n",
        "bd=bd[14:]                                                              #убрал полученные нан значения от расчетов\n",
        "bd"
      ],
      "metadata": {
        "id": "kSxRj01C_0i6",
        "colab": {
          "base_uri": "https://localhost:8080/",
          "height": 424
        },
        "outputId": "d83d383b-c357-45a9-d71f-b40638252af5"
      },
      "execution_count": 6,
      "outputs": [
        {
          "output_type": "execute_result",
          "data": {
            "text/plain": [
              "        delivery_area_id                 date  kol-vo-z  back_7d_z  \\\n",
              "14                     0  2021-04-02 14:00:00         3        2.0   \n",
              "15                     0  2021-04-02 15:00:00         1        2.0   \n",
              "16                     0  2021-04-02 17:00:00         1        1.0   \n",
              "17                     0  2021-04-02 18:00:00         2        3.0   \n",
              "18                     0  2021-04-02 19:00:00         3        1.0   \n",
              "...                  ...                  ...       ...        ...   \n",
              "884851               592  2021-11-30 16:00:00         6        1.0   \n",
              "884852               592  2021-11-30 17:00:00         3       10.0   \n",
              "884853               592  2021-11-30 18:00:00         2        8.0   \n",
              "884854               592  2021-11-30 19:00:00         4        8.0   \n",
              "884855               592  2021-11-30 20:00:00         4        3.0   \n",
              "\n",
              "        back_14d_z  target_sqrt  target_log  sred_za_7d  sred_za_14d  \\\n",
              "14             9.0     1.732051    1.098612    2.142857     1.928571   \n",
              "15             1.0     1.000000    0.000000    2.000000     1.928571   \n",
              "16             1.0     1.000000    0.000000    2.000000     1.928571   \n",
              "17             1.0     1.414214    0.693147    1.857143     2.000000   \n",
              "18             2.0     1.732051    1.098612    2.142857     2.071429   \n",
              "...            ...          ...         ...         ...          ...   \n",
              "884851         9.0     2.449490    1.791759    5.714286     5.000000   \n",
              "884852         4.0     1.732051    1.098612    4.714286     4.928571   \n",
              "884853         2.0     1.414214    0.693147    3.857143     4.928571   \n",
              "884854         5.0     2.000000    1.386294    3.285714     4.857143   \n",
              "884855         5.0     2.000000    1.386294    3.428571     4.785714   \n",
              "\n",
              "        50%_sz7d+50%_sz14d  \n",
              "14                2.035714  \n",
              "15                1.964286  \n",
              "16                1.964286  \n",
              "17                1.928571  \n",
              "18                2.107143  \n",
              "...                    ...  \n",
              "884851            5.357143  \n",
              "884852            4.821429  \n",
              "884853            4.392857  \n",
              "884854            4.071429  \n",
              "884855            4.107143  \n",
              "\n",
              "[884842 rows x 10 columns]"
            ],
            "text/html": [
              "\n",
              "  <div id=\"df-cdcf6ac5-7ec7-405a-9a44-c91fa6f5a690\">\n",
              "    <div class=\"colab-df-container\">\n",
              "      <div>\n",
              "<style scoped>\n",
              "    .dataframe tbody tr th:only-of-type {\n",
              "        vertical-align: middle;\n",
              "    }\n",
              "\n",
              "    .dataframe tbody tr th {\n",
              "        vertical-align: top;\n",
              "    }\n",
              "\n",
              "    .dataframe thead th {\n",
              "        text-align: right;\n",
              "    }\n",
              "</style>\n",
              "<table border=\"1\" class=\"dataframe\">\n",
              "  <thead>\n",
              "    <tr style=\"text-align: right;\">\n",
              "      <th></th>\n",
              "      <th>delivery_area_id</th>\n",
              "      <th>date</th>\n",
              "      <th>kol-vo-z</th>\n",
              "      <th>back_7d_z</th>\n",
              "      <th>back_14d_z</th>\n",
              "      <th>target_sqrt</th>\n",
              "      <th>target_log</th>\n",
              "      <th>sred_za_7d</th>\n",
              "      <th>sred_za_14d</th>\n",
              "      <th>50%_sz7d+50%_sz14d</th>\n",
              "    </tr>\n",
              "  </thead>\n",
              "  <tbody>\n",
              "    <tr>\n",
              "      <th>14</th>\n",
              "      <td>0</td>\n",
              "      <td>2021-04-02 14:00:00</td>\n",
              "      <td>3</td>\n",
              "      <td>2.0</td>\n",
              "      <td>9.0</td>\n",
              "      <td>1.732051</td>\n",
              "      <td>1.098612</td>\n",
              "      <td>2.142857</td>\n",
              "      <td>1.928571</td>\n",
              "      <td>2.035714</td>\n",
              "    </tr>\n",
              "    <tr>\n",
              "      <th>15</th>\n",
              "      <td>0</td>\n",
              "      <td>2021-04-02 15:00:00</td>\n",
              "      <td>1</td>\n",
              "      <td>2.0</td>\n",
              "      <td>1.0</td>\n",
              "      <td>1.000000</td>\n",
              "      <td>0.000000</td>\n",
              "      <td>2.000000</td>\n",
              "      <td>1.928571</td>\n",
              "      <td>1.964286</td>\n",
              "    </tr>\n",
              "    <tr>\n",
              "      <th>16</th>\n",
              "      <td>0</td>\n",
              "      <td>2021-04-02 17:00:00</td>\n",
              "      <td>1</td>\n",
              "      <td>1.0</td>\n",
              "      <td>1.0</td>\n",
              "      <td>1.000000</td>\n",
              "      <td>0.000000</td>\n",
              "      <td>2.000000</td>\n",
              "      <td>1.928571</td>\n",
              "      <td>1.964286</td>\n",
              "    </tr>\n",
              "    <tr>\n",
              "      <th>17</th>\n",
              "      <td>0</td>\n",
              "      <td>2021-04-02 18:00:00</td>\n",
              "      <td>2</td>\n",
              "      <td>3.0</td>\n",
              "      <td>1.0</td>\n",
              "      <td>1.414214</td>\n",
              "      <td>0.693147</td>\n",
              "      <td>1.857143</td>\n",
              "      <td>2.000000</td>\n",
              "      <td>1.928571</td>\n",
              "    </tr>\n",
              "    <tr>\n",
              "      <th>18</th>\n",
              "      <td>0</td>\n",
              "      <td>2021-04-02 19:00:00</td>\n",
              "      <td>3</td>\n",
              "      <td>1.0</td>\n",
              "      <td>2.0</td>\n",
              "      <td>1.732051</td>\n",
              "      <td>1.098612</td>\n",
              "      <td>2.142857</td>\n",
              "      <td>2.071429</td>\n",
              "      <td>2.107143</td>\n",
              "    </tr>\n",
              "    <tr>\n",
              "      <th>...</th>\n",
              "      <td>...</td>\n",
              "      <td>...</td>\n",
              "      <td>...</td>\n",
              "      <td>...</td>\n",
              "      <td>...</td>\n",
              "      <td>...</td>\n",
              "      <td>...</td>\n",
              "      <td>...</td>\n",
              "      <td>...</td>\n",
              "      <td>...</td>\n",
              "    </tr>\n",
              "    <tr>\n",
              "      <th>884851</th>\n",
              "      <td>592</td>\n",
              "      <td>2021-11-30 16:00:00</td>\n",
              "      <td>6</td>\n",
              "      <td>1.0</td>\n",
              "      <td>9.0</td>\n",
              "      <td>2.449490</td>\n",
              "      <td>1.791759</td>\n",
              "      <td>5.714286</td>\n",
              "      <td>5.000000</td>\n",
              "      <td>5.357143</td>\n",
              "    </tr>\n",
              "    <tr>\n",
              "      <th>884852</th>\n",
              "      <td>592</td>\n",
              "      <td>2021-11-30 17:00:00</td>\n",
              "      <td>3</td>\n",
              "      <td>10.0</td>\n",
              "      <td>4.0</td>\n",
              "      <td>1.732051</td>\n",
              "      <td>1.098612</td>\n",
              "      <td>4.714286</td>\n",
              "      <td>4.928571</td>\n",
              "      <td>4.821429</td>\n",
              "    </tr>\n",
              "    <tr>\n",
              "      <th>884853</th>\n",
              "      <td>592</td>\n",
              "      <td>2021-11-30 18:00:00</td>\n",
              "      <td>2</td>\n",
              "      <td>8.0</td>\n",
              "      <td>2.0</td>\n",
              "      <td>1.414214</td>\n",
              "      <td>0.693147</td>\n",
              "      <td>3.857143</td>\n",
              "      <td>4.928571</td>\n",
              "      <td>4.392857</td>\n",
              "    </tr>\n",
              "    <tr>\n",
              "      <th>884854</th>\n",
              "      <td>592</td>\n",
              "      <td>2021-11-30 19:00:00</td>\n",
              "      <td>4</td>\n",
              "      <td>8.0</td>\n",
              "      <td>5.0</td>\n",
              "      <td>2.000000</td>\n",
              "      <td>1.386294</td>\n",
              "      <td>3.285714</td>\n",
              "      <td>4.857143</td>\n",
              "      <td>4.071429</td>\n",
              "    </tr>\n",
              "    <tr>\n",
              "      <th>884855</th>\n",
              "      <td>592</td>\n",
              "      <td>2021-11-30 20:00:00</td>\n",
              "      <td>4</td>\n",
              "      <td>3.0</td>\n",
              "      <td>5.0</td>\n",
              "      <td>2.000000</td>\n",
              "      <td>1.386294</td>\n",
              "      <td>3.428571</td>\n",
              "      <td>4.785714</td>\n",
              "      <td>4.107143</td>\n",
              "    </tr>\n",
              "  </tbody>\n",
              "</table>\n",
              "<p>884842 rows × 10 columns</p>\n",
              "</div>\n",
              "      <button class=\"colab-df-convert\" onclick=\"convertToInteractive('df-cdcf6ac5-7ec7-405a-9a44-c91fa6f5a690')\"\n",
              "              title=\"Convert this dataframe to an interactive table.\"\n",
              "              style=\"display:none;\">\n",
              "        \n",
              "  <svg xmlns=\"http://www.w3.org/2000/svg\" height=\"24px\"viewBox=\"0 0 24 24\"\n",
              "       width=\"24px\">\n",
              "    <path d=\"M0 0h24v24H0V0z\" fill=\"none\"/>\n",
              "    <path d=\"M18.56 5.44l.94 2.06.94-2.06 2.06-.94-2.06-.94-.94-2.06-.94 2.06-2.06.94zm-11 1L8.5 8.5l.94-2.06 2.06-.94-2.06-.94L8.5 2.5l-.94 2.06-2.06.94zm10 10l.94 2.06.94-2.06 2.06-.94-2.06-.94-.94-2.06-.94 2.06-2.06.94z\"/><path d=\"M17.41 7.96l-1.37-1.37c-.4-.4-.92-.59-1.43-.59-.52 0-1.04.2-1.43.59L10.3 9.45l-7.72 7.72c-.78.78-.78 2.05 0 2.83L4 21.41c.39.39.9.59 1.41.59.51 0 1.02-.2 1.41-.59l7.78-7.78 2.81-2.81c.8-.78.8-2.07 0-2.86zM5.41 20L4 18.59l7.72-7.72 1.47 1.35L5.41 20z\"/>\n",
              "  </svg>\n",
              "      </button>\n",
              "      \n",
              "  <style>\n",
              "    .colab-df-container {\n",
              "      display:flex;\n",
              "      flex-wrap:wrap;\n",
              "      gap: 12px;\n",
              "    }\n",
              "\n",
              "    .colab-df-convert {\n",
              "      background-color: #E8F0FE;\n",
              "      border: none;\n",
              "      border-radius: 50%;\n",
              "      cursor: pointer;\n",
              "      display: none;\n",
              "      fill: #1967D2;\n",
              "      height: 32px;\n",
              "      padding: 0 0 0 0;\n",
              "      width: 32px;\n",
              "    }\n",
              "\n",
              "    .colab-df-convert:hover {\n",
              "      background-color: #E2EBFA;\n",
              "      box-shadow: 0px 1px 2px rgba(60, 64, 67, 0.3), 0px 1px 3px 1px rgba(60, 64, 67, 0.15);\n",
              "      fill: #174EA6;\n",
              "    }\n",
              "\n",
              "    [theme=dark] .colab-df-convert {\n",
              "      background-color: #3B4455;\n",
              "      fill: #D2E3FC;\n",
              "    }\n",
              "\n",
              "    [theme=dark] .colab-df-convert:hover {\n",
              "      background-color: #434B5C;\n",
              "      box-shadow: 0px 1px 3px 1px rgba(0, 0, 0, 0.15);\n",
              "      filter: drop-shadow(0px 1px 2px rgba(0, 0, 0, 0.3));\n",
              "      fill: #FFFFFF;\n",
              "    }\n",
              "  </style>\n",
              "\n",
              "      <script>\n",
              "        const buttonEl =\n",
              "          document.querySelector('#df-cdcf6ac5-7ec7-405a-9a44-c91fa6f5a690 button.colab-df-convert');\n",
              "        buttonEl.style.display =\n",
              "          google.colab.kernel.accessAllowed ? 'block' : 'none';\n",
              "\n",
              "        async function convertToInteractive(key) {\n",
              "          const element = document.querySelector('#df-cdcf6ac5-7ec7-405a-9a44-c91fa6f5a690');\n",
              "          const dataTable =\n",
              "            await google.colab.kernel.invokeFunction('convertToInteractive',\n",
              "                                                     [key], {});\n",
              "          if (!dataTable) return;\n",
              "\n",
              "          const docLinkHtml = 'Like what you see? Visit the ' +\n",
              "            '<a target=\"_blank\" href=https://colab.research.google.com/notebooks/data_table.ipynb>data table notebook</a>'\n",
              "            + ' to learn more about interactive tables.';\n",
              "          element.innerHTML = '';\n",
              "          dataTable['output_type'] = 'display_data';\n",
              "          await google.colab.output.renderOutput(dataTable, element);\n",
              "          const docLink = document.createElement('div');\n",
              "          docLink.innerHTML = docLinkHtml;\n",
              "          element.appendChild(docLink);\n",
              "        }\n",
              "      </script>\n",
              "    </div>\n",
              "  </div>\n",
              "  "
            ]
          },
          "metadata": {},
          "execution_count": 6
        }
      ]
    },
    {
      "cell_type": "code",
      "source": [
        "#это  используем  когда хотим  загруппировать  все значения часа за один день     код  в след ячейке ниже\n",
        "bd['date'] = pd.to_datetime(bd['date'],errors='coerce') #  столбец date  преобразуем в дату "
      ],
      "metadata": {
        "id": "GnH0QYXkopd2",
        "colab": {
          "base_uri": "https://localhost:8080/"
        },
        "outputId": "99112734-2ebd-4da2-c2cc-cf4dd39ce5fb"
      },
      "execution_count": 7,
      "outputs": [
        {
          "output_type": "stream",
          "name": "stderr",
          "text": [
            "/usr/local/lib/python3.7/dist-packages/ipykernel_launcher.py:2: SettingWithCopyWarning: \n",
            "A value is trying to be set on a copy of a slice from a DataFrame.\n",
            "Try using .loc[row_indexer,col_indexer] = value instead\n",
            "\n",
            "See the caveats in the documentation: https://pandas.pydata.org/pandas-docs/stable/user_guide/indexing.html#returning-a-view-versus-a-copy\n",
            "  \n"
          ]
        }
      ]
    },
    {
      "cell_type": "code",
      "source": [
        "from datetime import datetime\n",
        "import time\n",
        "bd['date'] = bd['date'].dt.strftime(\"%d%m%Y%H%M%S\")\n"
      ],
      "metadata": {
        "id": "mpjJurVT1_gj"
      },
      "execution_count": null,
      "outputs": []
    },
    {
      "cell_type": "code",
      "source": [
        "bd['date'] = bd['date'].astype(str)\n"
      ],
      "metadata": {
        "id": "Ciy7gmXAIoro",
        "colab": {
          "base_uri": "https://localhost:8080/"
        },
        "outputId": "63dd5ac0-77d1-4de5-d647-c4fdd3446db0"
      },
      "execution_count": 9,
      "outputs": [
        {
          "output_type": "stream",
          "name": "stderr",
          "text": [
            "/usr/local/lib/python3.7/dist-packages/ipykernel_launcher.py:1: SettingWithCopyWarning: \n",
            "A value is trying to be set on a copy of a slice from a DataFrame.\n",
            "Try using .loc[row_indexer,col_indexer] = value instead\n",
            "\n",
            "See the caveats in the documentation: https://pandas.pydata.org/pandas-docs/stable/user_guide/indexing.html#returning-a-view-versus-a-copy\n",
            "  \"\"\"Entry point for launching an IPython kernel.\n"
          ]
        }
      ]
    },
    {
      "cell_type": "code",
      "source": [
        "bd"
      ],
      "metadata": {
        "id": "M80r5UHmDyQT"
      },
      "execution_count": null,
      "outputs": []
    },
    {
      "cell_type": "code",
      "source": [
        "y = bd[['kol-vo-z']]\n",
        "X = bd.drop(['kol-vo-z'], axis=1)"
      ],
      "metadata": {
        "id": "gCjvXZjXgpEo"
      },
      "execution_count": 13,
      "outputs": []
    },
    {
      "cell_type": "markdown",
      "source": [
        "Линейная регрессия\n"
      ],
      "metadata": {
        "id": "4aGLCbmsgAKv"
      }
    },
    {
      "cell_type": "code",
      "source": [
        "# также зададим точку отсчета для воспроизводимости\n",
        "X_train, X_test, y_train, y_test = train_test_split(X, y, \n",
        "                                                    test_size = 0.2, \n",
        "                                                    random_state = 0)"
      ],
      "metadata": {
        "id": "VjfhXz1igC7P"
      },
      "execution_count": 14,
      "outputs": []
    },
    {
      "cell_type": "code",
      "source": [
        "# размерность обучающей\n",
        "print(X_train.shape, y_train.shape)\n",
        " \n",
        "# и тестовой выборки\n",
        "print(X_test.shape, y_test.shape)"
      ],
      "metadata": {
        "colab": {
          "base_uri": "https://localhost:8080/"
        },
        "id": "aYlUtsmWhX3f",
        "outputId": "7dd35394-40dc-436f-b30b-6c6bca2e7aa2"
      },
      "execution_count": 15,
      "outputs": [
        {
          "output_type": "stream",
          "name": "stdout",
          "text": [
            "(707873, 9) (707873, 1)\n",
            "(176969, 9) (176969, 1)\n"
          ]
        }
      ]
    },
    {
      "cell_type": "code",
      "source": [
        "# создадим объект этого класса и запишем в переменную model\n",
        "model = LinearRegression()\n",
        " \n",
        "# обучим нашу модель\n",
        "model.fit(X_train, y_train)"
      ],
      "metadata": {
        "colab": {
          "base_uri": "https://localhost:8080/"
        },
        "id": "blsaCMpMiV2F",
        "outputId": "244b1e02-3ae2-4851-cae6-013589da8bb6"
      },
      "execution_count": 16,
      "outputs": [
        {
          "output_type": "execute_result",
          "data": {
            "text/plain": [
              "LinearRegression()"
            ]
          },
          "metadata": {},
          "execution_count": 16
        }
      ]
    },
    {
      "cell_type": "code",
      "source": [
        "# на основе нескольких независимых переменных (Х) предскажем цену на жилье (y)\n",
        "y_pred = model.predict(X_test)\n",
        " \n",
        "# выведем первые пять значений с помощью диапазона индексов\n",
        "print(y_pred[:5])\n",
        "print(X_test[:5])"
      ],
      "metadata": {
        "id": "-KVYyV8vie4a"
      },
      "execution_count": null,
      "outputs": []
    },
    {
      "cell_type": "code",
      "source": [
        "X_test.shape"
      ],
      "metadata": {
        "colab": {
          "base_uri": "https://localhost:8080/"
        },
        "id": "c4P2yrW1P0XQ",
        "outputId": "6e1947fe-ed0e-48a3-ac97-c789ad91700b"
      },
      "execution_count": null,
      "outputs": [
        {
          "output_type": "execute_result",
          "data": {
            "text/plain": [
              "(176969, 9)"
            ]
          },
          "metadata": {},
          "execution_count": 15
        }
      ]
    },
    {
      "cell_type": "code",
      "source": [
        "import matplotlib.pyplot as plt\n",
        "\n",
        "# fitting the size of the plot\n",
        "plt.figure(figsize=(15, 8))\n",
        "\n",
        "# plotting the graphs\n",
        "plt.plot([i for i in range(len(y_test))],y_test, label=\"actual values\")\n",
        "plt.plot([i for i in range(len(y_test))],y_pred, label=\"Predicted values\")\n",
        "\n",
        "# showing the plotting\n",
        "plt.legend()\n",
        "plt.show()"
      ],
      "metadata": {
        "colab": {
          "base_uri": "https://localhost:8080/",
          "height": 483
        },
        "id": "8XkW0sCeK3WZ",
        "outputId": "3ab7d816-92c8-4014-dac4-dc6e4d41f597"
      },
      "execution_count": 20,
      "outputs": [
        {
          "output_type": "display_data",
          "data": {
            "text/plain": [
              "<Figure size 1080x576 with 1 Axes>"
            ],
            "image/png": "[encoded data removed]"
          },
          "metadata": {
            "needs_background": "light"
          }
        }
      ]
    },
    {
      "cell_type": "code",
      "source": [
        "print('R2:', np.round(metrics.r2_score(y_test, y_pred), 2))\n",
        "print('MAE:',metrics.mean_absolute_error(y_test, y_pred))\n",
        "print(' RMSE:', np.sqrt(metrics.mean_squared_error(y_test, y_pred)))"
      ],
      "metadata": {
        "colab": {
          "base_uri": "https://localhost:8080/"
        },
        "id": "NaN06amai2t-",
        "outputId": "7bd004f3-7ea0-4643-ad33-2cbe9a82d61a"
      },
      "execution_count": 19,
      "outputs": [
        {
          "output_type": "stream",
          "name": "stdout",
          "text": [
            "R2: 0.99\n",
            "MAE: 0.22570352880096317\n",
            " RMSE: 0.320420098769843\n"
          ]
        }
      ]
    },
    {
      "cell_type": "markdown",
      "source": [
        "LightGBM"
      ],
      "metadata": {
        "id": "IbpCeABbG1_j"
      }
    },
    {
      "cell_type": "code",
      "source": [
        "X_train, X_test, y_train, y_test = train_test_split(X, y, \n",
        "                                                    test_size = 0.2, \n",
        "                                                    random_state = 0)"
      ],
      "metadata": {
        "id": "5Ch13TlZHTmy"
      },
      "execution_count": 35,
      "outputs": []
    },
    {
      "cell_type": "code",
      "source": [
        "X_train.dtypes"
      ],
      "metadata": {
        "id": "coBGvCA9ITTo"
      },
      "execution_count": null,
      "outputs": []
    },
    {
      "cell_type": "code",
      "source": [
        "from sklearn import preprocessing\n",
        "lbl = preprocessing.LabelEncoder()\n",
        "X_train['date'] = lbl.fit_transform(X_train['date'].astype(str))\n",
        "X_test['date'] = lbl.fit_transform(X_test['date'].astype(str))"
      ],
      "metadata": {
        "id": "3A7a_a2cDYNN"
      },
      "execution_count": 38,
      "outputs": []
    },
    {
      "cell_type": "code",
      "source": [
        "import lightgbm as lgb\n",
        "\n",
        "# initialzing the model\n",
        "model = lgb.LGBMRegressor()\n",
        "\n",
        "# train the model\n",
        "model.fit(X_train,y_train)"
      ],
      "metadata": {
        "colab": {
          "base_uri": "https://localhost:8080/"
        },
        "id": "069vWAqyG1g9",
        "outputId": "5030500c-4025-4125-ecad-12d4408a0010"
      },
      "execution_count": 39,
      "outputs": [
        {
          "output_type": "execute_result",
          "data": {
            "text/plain": [
              "LGBMRegressor()"
            ]
          },
          "metadata": {},
          "execution_count": 39
        }
      ]
    },
    {
      "cell_type": "code",
      "source": [
        "lightR_predict = model.predict(X_test)"
      ],
      "metadata": {
        "id": "3gTJIKUEJmUm"
      },
      "execution_count": 31,
      "outputs": []
    },
    {
      "cell_type": "code",
      "source": [
        "import matplotlib.pyplot as plt\n",
        "\n",
        "# fitting the size of the plot\n",
        "plt.figure(figsize=(15, 8))\n",
        "\n",
        "# plotting the graphs\n",
        "plt.plot([i for i in range(len(y_test))],y_test, label=\"actual values\")\n",
        "plt.plot([i for i in range(len(y_test))],lightR_predict, label=\"Predicted values\")\n",
        "\n",
        "# showing the plotting\n",
        "plt.legend()\n",
        "plt.show()"
      ],
      "metadata": {
        "colab": {
          "base_uri": "https://localhost:8080/",
          "height": 483
        },
        "id": "iRgRpUehJ6ig",
        "outputId": "c0fe4758-9ec4-48f0-8a3f-1fcb014be3c5"
      },
      "execution_count": 32,
      "outputs": [
        {
          "output_type": "display_data",
          "data": {
            "text/plain": [
              "<Figure size 1080x576 with 1 Axes>"
            ],
            "image/png": "[encoded data removed]"
          },
          "metadata": {
            "needs_background": "light"
          }
        }
      ]
    },
    {
      "cell_type": "code",
      "source": [
        "print('R2:', np.round(metrics.r2_score(y_test, lightR_predict), 2))\n",
        "print('MAE:',metrics.mean_absolute_error(y_test, lightR_predict))\n",
        "print(' RMSE:', np.sqrt(metrics.mean_squared_error(y_test,lightR_predict)))"
      ],
      "metadata": {
        "colab": {
          "base_uri": "https://localhost:8080/"
        },
        "id": "SrURtVI1KInA",
        "outputId": "c814a3e9-308a-4214-8ccd-a161fac52d0e"
      },
      "execution_count": 34,
      "outputs": [
        {
          "output_type": "stream",
          "name": "stdout",
          "text": [
            "R2: 1.0\n",
            "MAE: 0.0007679333963100712\n",
            " RMSE: 0.05670154971300339\n"
          ]
        }
      ]
    }
  ]
}
